{
 "cells": [
  {
   "cell_type": "code",
   "execution_count": 8,
   "metadata": {},
   "outputs": [],
   "source": [
    "import pandas as pd\n",
    "import numpy as np\n",
    "\n",
    "ls = []\n",
    "for input_size in [10, 50, 100]:\n",
    "    for hidden_size in [32, 64, 128]:\n",
    "        for num_layers in [1,2,3]:\n",
    "            for latent_dim in [4,8,16]:\n",
    "                for n_samples in [64]:\n",
    "                    for window_size in [28,42]:\n",
    "                        for batch_size in [16,32]:\n",
    "                            for epochs in [400]:\n",
    "                                ls.append({\n",
    "                                 'input_size':input_size,\n",
    "                                  'hidden_size':hidden_size,\n",
    "                                  'num_layers':num_layers,\n",
    "                                  'latent_dim':latent_dim,\n",
    "                                  'n_samples':n_samples,\n",
    "                                  'window_size':window_size,\n",
    "                                  'batch_size':batch_size,\n",
    "                                  'epochs':epochs\n",
    "                                \n",
    "                                })\n",
    "\n",
    "df = pd.DataFrame.from_dict(ls)\n",
    "df['started'] = np.zeros(df.shape[0])\n",
    "df['validation_score'] = np.zeros(df.shape[0])\n",
    "\n",
    "df.index = np.linspace(0, df.shape[0]-1, df.shape[0]).astype(int)\n",
    "df.to_csv('validation_scores.csv')   "
   ]
  },
  {
   "cell_type": "code",
   "execution_count": 7,
   "metadata": {},
   "outputs": [
    {
     "data": {
      "text/plain": [
       "2750"
      ]
     },
     "execution_count": 7,
     "metadata": {},
     "output_type": "execute_result"
    }
   ],
   "source": [
    "11*250"
   ]
  },
  {
   "cell_type": "code",
   "execution_count": null,
   "metadata": {},
   "outputs": [],
   "source": []
  }
 ],
 "metadata": {
  "kernelspec": {
   "display_name": "tf",
   "language": "python",
   "name": "tf"
  },
  "language_info": {
   "codemirror_mode": {
    "name": "ipython",
    "version": 3
   },
   "file_extension": ".py",
   "mimetype": "text/x-python",
   "name": "python",
   "nbconvert_exporter": "python",
   "pygments_lexer": "ipython3",
   "version": "3.10.12"
  }
 },
 "nbformat": 4,
 "nbformat_minor": 4
}
